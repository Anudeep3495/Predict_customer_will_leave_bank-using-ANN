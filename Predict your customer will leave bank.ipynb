{
 "cells": [
  {
   "cell_type": "markdown",
   "metadata": {},
   "source": [
    "# Part 1 - Data Preprocessing"
   ]
  },
  {
   "cell_type": "code",
   "execution_count": 1,
   "metadata": {},
   "outputs": [],
   "source": [
    "# Importing the libraries\n",
    "import numpy as np\n",
    "import matplotlib.pyplot as plt\n",
    "import pandas as pd\n",
    "import seaborn as sns"
   ]
  },
  {
   "cell_type": "code",
   "execution_count": 2,
   "metadata": {},
   "outputs": [],
   "source": [
    "df=pd.read_csv('Churn_Modelling.csv')"
   ]
  },
  {
   "cell_type": "code",
   "execution_count": 3,
   "metadata": {},
   "outputs": [
    {
     "data": {
      "text/html": [
       "<div>\n",
       "<style scoped>\n",
       "    .dataframe tbody tr th:only-of-type {\n",
       "        vertical-align: middle;\n",
       "    }\n",
       "\n",
       "    .dataframe tbody tr th {\n",
       "        vertical-align: top;\n",
       "    }\n",
       "\n",
       "    .dataframe thead th {\n",
       "        text-align: right;\n",
       "    }\n",
       "</style>\n",
       "<table border=\"1\" class=\"dataframe\">\n",
       "  <thead>\n",
       "    <tr style=\"text-align: right;\">\n",
       "      <th></th>\n",
       "      <th>RowNumber</th>\n",
       "      <th>CustomerId</th>\n",
       "      <th>Surname</th>\n",
       "      <th>CreditScore</th>\n",
       "      <th>Geography</th>\n",
       "      <th>Gender</th>\n",
       "      <th>Age</th>\n",
       "      <th>Tenure</th>\n",
       "      <th>Balance</th>\n",
       "      <th>NumOfProducts</th>\n",
       "      <th>HasCrCard</th>\n",
       "      <th>IsActiveMember</th>\n",
       "      <th>EstimatedSalary</th>\n",
       "      <th>Exited</th>\n",
       "    </tr>\n",
       "  </thead>\n",
       "  <tbody>\n",
       "    <tr>\n",
       "      <th>0</th>\n",
       "      <td>1</td>\n",
       "      <td>15634602</td>\n",
       "      <td>Hargrave</td>\n",
       "      <td>619</td>\n",
       "      <td>France</td>\n",
       "      <td>Female</td>\n",
       "      <td>42</td>\n",
       "      <td>2</td>\n",
       "      <td>0.00</td>\n",
       "      <td>1</td>\n",
       "      <td>1</td>\n",
       "      <td>1</td>\n",
       "      <td>101348.88</td>\n",
       "      <td>1</td>\n",
       "    </tr>\n",
       "    <tr>\n",
       "      <th>1</th>\n",
       "      <td>2</td>\n",
       "      <td>15647311</td>\n",
       "      <td>Hill</td>\n",
       "      <td>608</td>\n",
       "      <td>Spain</td>\n",
       "      <td>Female</td>\n",
       "      <td>41</td>\n",
       "      <td>1</td>\n",
       "      <td>83807.86</td>\n",
       "      <td>1</td>\n",
       "      <td>0</td>\n",
       "      <td>1</td>\n",
       "      <td>112542.58</td>\n",
       "      <td>0</td>\n",
       "    </tr>\n",
       "    <tr>\n",
       "      <th>2</th>\n",
       "      <td>3</td>\n",
       "      <td>15619304</td>\n",
       "      <td>Onio</td>\n",
       "      <td>502</td>\n",
       "      <td>France</td>\n",
       "      <td>Female</td>\n",
       "      <td>42</td>\n",
       "      <td>8</td>\n",
       "      <td>159660.80</td>\n",
       "      <td>3</td>\n",
       "      <td>1</td>\n",
       "      <td>0</td>\n",
       "      <td>113931.57</td>\n",
       "      <td>1</td>\n",
       "    </tr>\n",
       "    <tr>\n",
       "      <th>3</th>\n",
       "      <td>4</td>\n",
       "      <td>15701354</td>\n",
       "      <td>Boni</td>\n",
       "      <td>699</td>\n",
       "      <td>France</td>\n",
       "      <td>Female</td>\n",
       "      <td>39</td>\n",
       "      <td>1</td>\n",
       "      <td>0.00</td>\n",
       "      <td>2</td>\n",
       "      <td>0</td>\n",
       "      <td>0</td>\n",
       "      <td>93826.63</td>\n",
       "      <td>0</td>\n",
       "    </tr>\n",
       "    <tr>\n",
       "      <th>4</th>\n",
       "      <td>5</td>\n",
       "      <td>15737888</td>\n",
       "      <td>Mitchell</td>\n",
       "      <td>850</td>\n",
       "      <td>Spain</td>\n",
       "      <td>Female</td>\n",
       "      <td>43</td>\n",
       "      <td>2</td>\n",
       "      <td>125510.82</td>\n",
       "      <td>1</td>\n",
       "      <td>1</td>\n",
       "      <td>1</td>\n",
       "      <td>79084.10</td>\n",
       "      <td>0</td>\n",
       "    </tr>\n",
       "  </tbody>\n",
       "</table>\n",
       "</div>"
      ],
      "text/plain": [
       "   RowNumber  CustomerId   Surname  CreditScore Geography  Gender  Age  \\\n",
       "0          1    15634602  Hargrave          619    France  Female   42   \n",
       "1          2    15647311      Hill          608     Spain  Female   41   \n",
       "2          3    15619304      Onio          502    France  Female   42   \n",
       "3          4    15701354      Boni          699    France  Female   39   \n",
       "4          5    15737888  Mitchell          850     Spain  Female   43   \n",
       "\n",
       "   Tenure    Balance  NumOfProducts  HasCrCard  IsActiveMember  \\\n",
       "0       2       0.00              1          1               1   \n",
       "1       1   83807.86              1          0               1   \n",
       "2       8  159660.80              3          1               0   \n",
       "3       1       0.00              2          0               0   \n",
       "4       2  125510.82              1          1               1   \n",
       "\n",
       "   EstimatedSalary  Exited  \n",
       "0        101348.88       1  \n",
       "1        112542.58       0  \n",
       "2        113931.57       1  \n",
       "3         93826.63       0  \n",
       "4         79084.10       0  "
      ]
     },
     "execution_count": 3,
     "metadata": {},
     "output_type": "execute_result"
    }
   ],
   "source": [
    "df.head()"
   ]
  },
  {
   "cell_type": "code",
   "execution_count": 4,
   "metadata": {},
   "outputs": [
    {
     "data": {
      "text/plain": [
       "(10000, 14)"
      ]
     },
     "execution_count": 4,
     "metadata": {},
     "output_type": "execute_result"
    }
   ],
   "source": [
    "df.shape"
   ]
  },
  {
   "cell_type": "code",
   "execution_count": 5,
   "metadata": {},
   "outputs": [
    {
     "data": {
      "text/plain": [
       "RowNumber          0\n",
       "CustomerId         0\n",
       "Surname            0\n",
       "CreditScore        0\n",
       "Geography          0\n",
       "Gender             0\n",
       "Age                0\n",
       "Tenure             0\n",
       "Balance            0\n",
       "NumOfProducts      0\n",
       "HasCrCard          0\n",
       "IsActiveMember     0\n",
       "EstimatedSalary    0\n",
       "Exited             0\n",
       "dtype: int64"
      ]
     },
     "execution_count": 5,
     "metadata": {},
     "output_type": "execute_result"
    }
   ],
   "source": [
    "df.isnull().sum()"
   ]
  },
  {
   "cell_type": "code",
   "execution_count": 6,
   "metadata": {},
   "outputs": [
    {
     "data": {
      "text/plain": [
       "(10000, 11)"
      ]
     },
     "execution_count": 6,
     "metadata": {},
     "output_type": "execute_result"
    }
   ],
   "source": [
    "df=df.drop(['RowNumber','CustomerId','Surname'],axis=1)\n",
    "df.shape"
   ]
  },
  {
   "cell_type": "code",
   "execution_count": 7,
   "metadata": {},
   "outputs": [
    {
     "data": {
      "text/html": [
       "<div>\n",
       "<style scoped>\n",
       "    .dataframe tbody tr th:only-of-type {\n",
       "        vertical-align: middle;\n",
       "    }\n",
       "\n",
       "    .dataframe tbody tr th {\n",
       "        vertical-align: top;\n",
       "    }\n",
       "\n",
       "    .dataframe thead th {\n",
       "        text-align: right;\n",
       "    }\n",
       "</style>\n",
       "<table border=\"1\" class=\"dataframe\">\n",
       "  <thead>\n",
       "    <tr style=\"text-align: right;\">\n",
       "      <th></th>\n",
       "      <th>CreditScore</th>\n",
       "      <th>Age</th>\n",
       "      <th>Tenure</th>\n",
       "      <th>Balance</th>\n",
       "      <th>NumOfProducts</th>\n",
       "      <th>HasCrCard</th>\n",
       "      <th>IsActiveMember</th>\n",
       "      <th>EstimatedSalary</th>\n",
       "      <th>Exited</th>\n",
       "    </tr>\n",
       "  </thead>\n",
       "  <tbody>\n",
       "    <tr>\n",
       "      <th>count</th>\n",
       "      <td>10000.000000</td>\n",
       "      <td>10000.000000</td>\n",
       "      <td>10000.000000</td>\n",
       "      <td>10000.000000</td>\n",
       "      <td>10000.000000</td>\n",
       "      <td>10000.00000</td>\n",
       "      <td>10000.000000</td>\n",
       "      <td>10000.000000</td>\n",
       "      <td>10000.000000</td>\n",
       "    </tr>\n",
       "    <tr>\n",
       "      <th>mean</th>\n",
       "      <td>650.528800</td>\n",
       "      <td>38.921800</td>\n",
       "      <td>5.012800</td>\n",
       "      <td>76485.889288</td>\n",
       "      <td>1.530200</td>\n",
       "      <td>0.70550</td>\n",
       "      <td>0.515100</td>\n",
       "      <td>100090.239881</td>\n",
       "      <td>0.203700</td>\n",
       "    </tr>\n",
       "    <tr>\n",
       "      <th>std</th>\n",
       "      <td>96.653299</td>\n",
       "      <td>10.487806</td>\n",
       "      <td>2.892174</td>\n",
       "      <td>62397.405202</td>\n",
       "      <td>0.581654</td>\n",
       "      <td>0.45584</td>\n",
       "      <td>0.499797</td>\n",
       "      <td>57510.492818</td>\n",
       "      <td>0.402769</td>\n",
       "    </tr>\n",
       "    <tr>\n",
       "      <th>min</th>\n",
       "      <td>350.000000</td>\n",
       "      <td>18.000000</td>\n",
       "      <td>0.000000</td>\n",
       "      <td>0.000000</td>\n",
       "      <td>1.000000</td>\n",
       "      <td>0.00000</td>\n",
       "      <td>0.000000</td>\n",
       "      <td>11.580000</td>\n",
       "      <td>0.000000</td>\n",
       "    </tr>\n",
       "    <tr>\n",
       "      <th>25%</th>\n",
       "      <td>584.000000</td>\n",
       "      <td>32.000000</td>\n",
       "      <td>3.000000</td>\n",
       "      <td>0.000000</td>\n",
       "      <td>1.000000</td>\n",
       "      <td>0.00000</td>\n",
       "      <td>0.000000</td>\n",
       "      <td>51002.110000</td>\n",
       "      <td>0.000000</td>\n",
       "    </tr>\n",
       "    <tr>\n",
       "      <th>50%</th>\n",
       "      <td>652.000000</td>\n",
       "      <td>37.000000</td>\n",
       "      <td>5.000000</td>\n",
       "      <td>97198.540000</td>\n",
       "      <td>1.000000</td>\n",
       "      <td>1.00000</td>\n",
       "      <td>1.000000</td>\n",
       "      <td>100193.915000</td>\n",
       "      <td>0.000000</td>\n",
       "    </tr>\n",
       "    <tr>\n",
       "      <th>75%</th>\n",
       "      <td>718.000000</td>\n",
       "      <td>44.000000</td>\n",
       "      <td>7.000000</td>\n",
       "      <td>127644.240000</td>\n",
       "      <td>2.000000</td>\n",
       "      <td>1.00000</td>\n",
       "      <td>1.000000</td>\n",
       "      <td>149388.247500</td>\n",
       "      <td>0.000000</td>\n",
       "    </tr>\n",
       "    <tr>\n",
       "      <th>max</th>\n",
       "      <td>850.000000</td>\n",
       "      <td>92.000000</td>\n",
       "      <td>10.000000</td>\n",
       "      <td>250898.090000</td>\n",
       "      <td>4.000000</td>\n",
       "      <td>1.00000</td>\n",
       "      <td>1.000000</td>\n",
       "      <td>199992.480000</td>\n",
       "      <td>1.000000</td>\n",
       "    </tr>\n",
       "  </tbody>\n",
       "</table>\n",
       "</div>"
      ],
      "text/plain": [
       "        CreditScore           Age        Tenure        Balance  NumOfProducts  \\\n",
       "count  10000.000000  10000.000000  10000.000000   10000.000000   10000.000000   \n",
       "mean     650.528800     38.921800      5.012800   76485.889288       1.530200   \n",
       "std       96.653299     10.487806      2.892174   62397.405202       0.581654   \n",
       "min      350.000000     18.000000      0.000000       0.000000       1.000000   \n",
       "25%      584.000000     32.000000      3.000000       0.000000       1.000000   \n",
       "50%      652.000000     37.000000      5.000000   97198.540000       1.000000   \n",
       "75%      718.000000     44.000000      7.000000  127644.240000       2.000000   \n",
       "max      850.000000     92.000000     10.000000  250898.090000       4.000000   \n",
       "\n",
       "         HasCrCard  IsActiveMember  EstimatedSalary        Exited  \n",
       "count  10000.00000    10000.000000     10000.000000  10000.000000  \n",
       "mean       0.70550        0.515100    100090.239881      0.203700  \n",
       "std        0.45584        0.499797     57510.492818      0.402769  \n",
       "min        0.00000        0.000000        11.580000      0.000000  \n",
       "25%        0.00000        0.000000     51002.110000      0.000000  \n",
       "50%        1.00000        1.000000    100193.915000      0.000000  \n",
       "75%        1.00000        1.000000    149388.247500      0.000000  \n",
       "max        1.00000        1.000000    199992.480000      1.000000  "
      ]
     },
     "execution_count": 7,
     "metadata": {},
     "output_type": "execute_result"
    }
   ],
   "source": [
    "df.describe()"
   ]
  },
  {
   "cell_type": "code",
   "execution_count": 8,
   "metadata": {},
   "outputs": [
    {
     "data": {
      "image/png": "[encoded data removed]",
      "text/plain": [
       "<Figure size 1440x1440 with 2 Axes>"
      ]
     },
     "metadata": {
      "needs_background": "light"
     },
     "output_type": "display_data"
    }
   ],
   "source": [
    "cor=df.corr()\n",
    "plt.figure(figsize=(20,20))\n",
    "sns.heatmap(cor,annot=True)\n",
    "plt.show()"
   ]
  },
  {
   "cell_type": "code",
   "execution_count": 9,
   "metadata": {},
   "outputs": [],
   "source": [
    "X = df.iloc[:,:10]\n",
    "y = df.iloc[:, 10]"
   ]
  },
  {
   "cell_type": "code",
   "execution_count": 10,
   "metadata": {},
   "outputs": [
    {
     "data": {
      "text/html": [
       "<div>\n",
       "<style scoped>\n",
       "    .dataframe tbody tr th:only-of-type {\n",
       "        vertical-align: middle;\n",
       "    }\n",
       "\n",
       "    .dataframe tbody tr th {\n",
       "        vertical-align: top;\n",
       "    }\n",
       "\n",
       "    .dataframe thead th {\n",
       "        text-align: right;\n",
       "    }\n",
       "</style>\n",
       "<table border=\"1\" class=\"dataframe\">\n",
       "  <thead>\n",
       "    <tr style=\"text-align: right;\">\n",
       "      <th></th>\n",
       "      <th>CreditScore</th>\n",
       "      <th>Geography</th>\n",
       "      <th>Gender</th>\n",
       "      <th>Age</th>\n",
       "      <th>Tenure</th>\n",
       "      <th>Balance</th>\n",
       "      <th>NumOfProducts</th>\n",
       "      <th>HasCrCard</th>\n",
       "      <th>IsActiveMember</th>\n",
       "      <th>EstimatedSalary</th>\n",
       "    </tr>\n",
       "  </thead>\n",
       "  <tbody>\n",
       "    <tr>\n",
       "      <th>0</th>\n",
       "      <td>619</td>\n",
       "      <td>France</td>\n",
       "      <td>Female</td>\n",
       "      <td>42</td>\n",
       "      <td>2</td>\n",
       "      <td>0.00</td>\n",
       "      <td>1</td>\n",
       "      <td>1</td>\n",
       "      <td>1</td>\n",
       "      <td>101348.88</td>\n",
       "    </tr>\n",
       "    <tr>\n",
       "      <th>1</th>\n",
       "      <td>608</td>\n",
       "      <td>Spain</td>\n",
       "      <td>Female</td>\n",
       "      <td>41</td>\n",
       "      <td>1</td>\n",
       "      <td>83807.86</td>\n",
       "      <td>1</td>\n",
       "      <td>0</td>\n",
       "      <td>1</td>\n",
       "      <td>112542.58</td>\n",
       "    </tr>\n",
       "    <tr>\n",
       "      <th>2</th>\n",
       "      <td>502</td>\n",
       "      <td>France</td>\n",
       "      <td>Female</td>\n",
       "      <td>42</td>\n",
       "      <td>8</td>\n",
       "      <td>159660.80</td>\n",
       "      <td>3</td>\n",
       "      <td>1</td>\n",
       "      <td>0</td>\n",
       "      <td>113931.57</td>\n",
       "    </tr>\n",
       "    <tr>\n",
       "      <th>3</th>\n",
       "      <td>699</td>\n",
       "      <td>France</td>\n",
       "      <td>Female</td>\n",
       "      <td>39</td>\n",
       "      <td>1</td>\n",
       "      <td>0.00</td>\n",
       "      <td>2</td>\n",
       "      <td>0</td>\n",
       "      <td>0</td>\n",
       "      <td>93826.63</td>\n",
       "    </tr>\n",
       "    <tr>\n",
       "      <th>4</th>\n",
       "      <td>850</td>\n",
       "      <td>Spain</td>\n",
       "      <td>Female</td>\n",
       "      <td>43</td>\n",
       "      <td>2</td>\n",
       "      <td>125510.82</td>\n",
       "      <td>1</td>\n",
       "      <td>1</td>\n",
       "      <td>1</td>\n",
       "      <td>79084.10</td>\n",
       "    </tr>\n",
       "  </tbody>\n",
       "</table>\n",
       "</div>"
      ],
      "text/plain": [
       "   CreditScore Geography  Gender  Age  Tenure    Balance  NumOfProducts  \\\n",
       "0          619    France  Female   42       2       0.00              1   \n",
       "1          608     Spain  Female   41       1   83807.86              1   \n",
       "2          502    France  Female   42       8  159660.80              3   \n",
       "3          699    France  Female   39       1       0.00              2   \n",
       "4          850     Spain  Female   43       2  125510.82              1   \n",
       "\n",
       "   HasCrCard  IsActiveMember  EstimatedSalary  \n",
       "0          1               1        101348.88  \n",
       "1          0               1        112542.58  \n",
       "2          1               0        113931.57  \n",
       "3          0               0         93826.63  \n",
       "4          1               1         79084.10  "
      ]
     },
     "execution_count": 10,
     "metadata": {},
     "output_type": "execute_result"
    }
   ],
   "source": [
    "X.head()"
   ]
  },
  {
   "cell_type": "code",
   "execution_count": 11,
   "metadata": {},
   "outputs": [],
   "source": [
    "# convert categorical feature into dummy variables\n",
    "\n",
    "states=pd.get_dummies(X['Geography'],drop_first=True)\n",
    "gender=pd.get_dummies(X['Gender'],drop_first=True)"
   ]
  },
  {
   "cell_type": "code",
   "execution_count": 12,
   "metadata": {},
   "outputs": [],
   "source": [
    "#concatenate the remaining dummies columns\n",
    "X=pd.concat([X,states,gender],axis=1)\n",
    "\n",
    "#drop the columns as it is no longer required\n",
    "\n",
    "X=X.drop(['Geography','Gender'],axis=1)"
   ]
  },
  {
   "cell_type": "code",
   "execution_count": 13,
   "metadata": {},
   "outputs": [
    {
     "data": {
      "text/html": [
       "<div>\n",
       "<style scoped>\n",
       "    .dataframe tbody tr th:only-of-type {\n",
       "        vertical-align: middle;\n",
       "    }\n",
       "\n",
       "    .dataframe tbody tr th {\n",
       "        vertical-align: top;\n",
       "    }\n",
       "\n",
       "    .dataframe thead th {\n",
       "        text-align: right;\n",
       "    }\n",
       "</style>\n",
       "<table border=\"1\" class=\"dataframe\">\n",
       "  <thead>\n",
       "    <tr style=\"text-align: right;\">\n",
       "      <th></th>\n",
       "      <th>CreditScore</th>\n",
       "      <th>Age</th>\n",
       "      <th>Tenure</th>\n",
       "      <th>Balance</th>\n",
       "      <th>NumOfProducts</th>\n",
       "      <th>HasCrCard</th>\n",
       "      <th>IsActiveMember</th>\n",
       "      <th>EstimatedSalary</th>\n",
       "      <th>Germany</th>\n",
       "      <th>Spain</th>\n",
       "      <th>Male</th>\n",
       "    </tr>\n",
       "  </thead>\n",
       "  <tbody>\n",
       "    <tr>\n",
       "      <th>0</th>\n",
       "      <td>619</td>\n",
       "      <td>42</td>\n",
       "      <td>2</td>\n",
       "      <td>0.00</td>\n",
       "      <td>1</td>\n",
       "      <td>1</td>\n",
       "      <td>1</td>\n",
       "      <td>101348.88</td>\n",
       "      <td>0</td>\n",
       "      <td>0</td>\n",
       "      <td>0</td>\n",
       "    </tr>\n",
       "    <tr>\n",
       "      <th>1</th>\n",
       "      <td>608</td>\n",
       "      <td>41</td>\n",
       "      <td>1</td>\n",
       "      <td>83807.86</td>\n",
       "      <td>1</td>\n",
       "      <td>0</td>\n",
       "      <td>1</td>\n",
       "      <td>112542.58</td>\n",
       "      <td>0</td>\n",
       "      <td>1</td>\n",
       "      <td>0</td>\n",
       "    </tr>\n",
       "    <tr>\n",
       "      <th>2</th>\n",
       "      <td>502</td>\n",
       "      <td>42</td>\n",
       "      <td>8</td>\n",
       "      <td>159660.80</td>\n",
       "      <td>3</td>\n",
       "      <td>1</td>\n",
       "      <td>0</td>\n",
       "      <td>113931.57</td>\n",
       "      <td>0</td>\n",
       "      <td>0</td>\n",
       "      <td>0</td>\n",
       "    </tr>\n",
       "    <tr>\n",
       "      <th>3</th>\n",
       "      <td>699</td>\n",
       "      <td>39</td>\n",
       "      <td>1</td>\n",
       "      <td>0.00</td>\n",
       "      <td>2</td>\n",
       "      <td>0</td>\n",
       "      <td>0</td>\n",
       "      <td>93826.63</td>\n",
       "      <td>0</td>\n",
       "      <td>0</td>\n",
       "      <td>0</td>\n",
       "    </tr>\n",
       "    <tr>\n",
       "      <th>4</th>\n",
       "      <td>850</td>\n",
       "      <td>43</td>\n",
       "      <td>2</td>\n",
       "      <td>125510.82</td>\n",
       "      <td>1</td>\n",
       "      <td>1</td>\n",
       "      <td>1</td>\n",
       "      <td>79084.10</td>\n",
       "      <td>0</td>\n",
       "      <td>1</td>\n",
       "      <td>0</td>\n",
       "    </tr>\n",
       "  </tbody>\n",
       "</table>\n",
       "</div>"
      ],
      "text/plain": [
       "   CreditScore  Age  Tenure    Balance  NumOfProducts  HasCrCard  \\\n",
       "0          619   42       2       0.00              1          1   \n",
       "1          608   41       1   83807.86              1          0   \n",
       "2          502   42       8  159660.80              3          1   \n",
       "3          699   39       1       0.00              2          0   \n",
       "4          850   43       2  125510.82              1          1   \n",
       "\n",
       "   IsActiveMember  EstimatedSalary  Germany  Spain  Male  \n",
       "0               1        101348.88        0      0     0  \n",
       "1               1        112542.58        0      1     0  \n",
       "2               0        113931.57        0      0     0  \n",
       "3               0         93826.63        0      0     0  \n",
       "4               1         79084.10        0      1     0  "
      ]
     },
     "execution_count": 13,
     "metadata": {},
     "output_type": "execute_result"
    }
   ],
   "source": [
    "X.head()"
   ]
  },
  {
   "cell_type": "code",
   "execution_count": 14,
   "metadata": {},
   "outputs": [],
   "source": [
    "# Splitting the dataset into the Training set and Test set\n",
    "from sklearn.model_selection import train_test_split\n",
    "X_train, X_test, y_train, y_test = train_test_split(X, y, test_size = 0.2, random_state = 0)"
   ]
  },
  {
   "cell_type": "code",
   "execution_count": 15,
   "metadata": {},
   "outputs": [],
   "source": [
    "# Feature Scaling\n",
    "from sklearn.preprocessing import StandardScaler\n",
    "sc = StandardScaler()\n",
    "X_train = sc.fit_transform(X_train)\n",
    "X_test = sc.transform(X_test)"
   ]
  },
  {
   "cell_type": "markdown",
   "metadata": {},
   "source": [
    "# Part 2 - Working with ANN"
   ]
  },
  {
   "cell_type": "code",
   "execution_count": 18,
   "metadata": {},
   "outputs": [
    {
     "name": "stderr",
     "output_type": "stream",
     "text": [
      "Using TensorFlow backend.\n"
     ]
    }
   ],
   "source": [
    "# Importing the Keras libraries and packages\n",
    "import keras\n",
    "from keras.models import Sequential\n",
    "from keras.layers import Dense"
   ]
  },
  {
   "cell_type": "code",
   "execution_count": 20,
   "metadata": {},
   "outputs": [],
   "source": [
    "from keras.activations import sigmoid,relu"
   ]
  },
  {
   "cell_type": "code",
   "execution_count": 21,
   "metadata": {},
   "outputs": [],
   "source": [
    "# Initialising the ANN\n",
    "Classifier=Sequential()"
   ]
  },
  {
   "cell_type": "code",
   "execution_count": 22,
   "metadata": {},
   "outputs": [],
   "source": [
    "#adding the input layer and first hidden layer\n",
    "Classifier.add(Dense(activation='relu',input_dim=11,units=6,kernel_initializer='he_uniform'))"
   ]
  },
  {
   "cell_type": "code",
   "execution_count": 23,
   "metadata": {},
   "outputs": [],
   "source": [
    "#Adding second hidden layer\n",
    "Classifier.add(Dense(activation='relu',units=6,kernel_initializer='he_uniform'))"
   ]
  },
  {
   "cell_type": "code",
   "execution_count": 26,
   "metadata": {},
   "outputs": [],
   "source": [
    "#Adding the output layer\n",
    "Classifier.add(Dense(activation='sigmoid',units=1,kernel_initializer='uniform'))"
   ]
  },
  {
   "cell_type": "code",
   "execution_count": 28,
   "metadata": {},
   "outputs": [],
   "source": [
    "# Compiling the ANN\n",
    "Classifier.compile(optimizer = 'adam', loss = 'binary_crossentropy', metrics = ['accuracy'])"
   ]
  },
  {
   "cell_type": "code",
   "execution_count": 30,
   "metadata": {},
   "outputs": [
    {
     "name": "stderr",
     "output_type": "stream",
     "text": [
      "C:\\Users\\anudeep\\anaconda3\\lib\\site-packages\\ipykernel_launcher.py:2: UserWarning: The `nb_epoch` argument in `fit` has been renamed `epochs`.\n",
      "  \n"
     ]
    },
    {
     "name": "stdout",
     "output_type": "stream",
     "text": [
      "Epoch 1/100\n",
      "8000/8000 [==============================] - 2s 198us/step - loss: 0.5194 - accuracy: 0.7944\n",
      "Epoch 2/100\n",
      "8000/8000 [==============================] - 1s 149us/step - loss: 0.4510 - accuracy: 0.7960\n",
      "Epoch 3/100\n",
      "8000/8000 [==============================] - 1s 136us/step - loss: 0.4374 - accuracy: 0.7960\n",
      "Epoch 4/100\n",
      "8000/8000 [==============================] - 1s 141us/step - loss: 0.4279 - accuracy: 0.8060\n",
      "Epoch 5/100\n",
      "8000/8000 [==============================] - 1s 150us/step - loss: 0.4208 - accuracy: 0.8236\n",
      "Epoch 6/100\n",
      "8000/8000 [==============================] - 1s 167us/step - loss: 0.4152 - accuracy: 0.8285\n",
      "Epoch 7/100\n",
      "8000/8000 [==============================] - 1s 132us/step - loss: 0.4113 - accuracy: 0.8307\n",
      "Epoch 8/100\n",
      "8000/8000 [==============================] - 1s 134us/step - loss: 0.4090 - accuracy: 0.8309\n",
      "Epoch 9/100\n",
      "8000/8000 [==============================] - 1s 134us/step - loss: 0.4068 - accuracy: 0.8334\n",
      "Epoch 10/100\n",
      "8000/8000 [==============================] - 1s 133us/step - loss: 0.4051 - accuracy: 0.8331\n",
      "Epoch 11/100\n",
      "8000/8000 [==============================] - 1s 176us/step - loss: 0.4038 - accuracy: 0.8341\n",
      "Epoch 12/100\n",
      "8000/8000 [==============================] - 1s 134us/step - loss: 0.4022 - accuracy: 0.8345\n",
      "Epoch 13/100\n",
      "8000/8000 [==============================] - 1s 138us/step - loss: 0.4018 - accuracy: 0.8340\n",
      "Epoch 14/100\n",
      "8000/8000 [==============================] - 1s 132us/step - loss: 0.4007 - accuracy: 0.8340\n",
      "Epoch 15/100\n",
      "8000/8000 [==============================] - 1s 134us/step - loss: 0.4000 - accuracy: 0.8365\n",
      "Epoch 16/100\n",
      "8000/8000 [==============================] - 1s 180us/step - loss: 0.3996 - accuracy: 0.8357\n",
      "Epoch 17/100\n",
      "8000/8000 [==============================] - 1s 137us/step - loss: 0.3993 - accuracy: 0.8364\n",
      "Epoch 18/100\n",
      "8000/8000 [==============================] - 1s 141us/step - loss: 0.3986 - accuracy: 0.8345\n",
      "Epoch 19/100\n",
      "8000/8000 [==============================] - 1s 169us/step - loss: 0.3983 - accuracy: 0.8366\n",
      "Epoch 20/100\n",
      "8000/8000 [==============================] - 1s 166us/step - loss: 0.3980 - accuracy: 0.8364\n",
      "Epoch 21/100\n",
      "8000/8000 [==============================] - 1s 152us/step - loss: 0.3975 - accuracy: 0.8371\n",
      "Epoch 22/100\n",
      "8000/8000 [==============================] - 1s 144us/step - loss: 0.3973 - accuracy: 0.8376\n",
      "Epoch 23/100\n",
      "8000/8000 [==============================] - 1s 142us/step - loss: 0.3970 - accuracy: 0.8370\n",
      "Epoch 24/100\n",
      "8000/8000 [==============================] - 1s 136us/step - loss: 0.3962 - accuracy: 0.8381\n",
      "Epoch 25/100\n",
      "8000/8000 [==============================] - 1s 170us/step - loss: 0.3963 - accuracy: 0.8380\n",
      "Epoch 26/100\n",
      "8000/8000 [==============================] - 1s 136us/step - loss: 0.3960 - accuracy: 0.8378\n",
      "Epoch 27/100\n",
      "8000/8000 [==============================] - 1s 162us/step - loss: 0.3954 - accuracy: 0.8385\n",
      "Epoch 28/100\n",
      "8000/8000 [==============================] - ETA: 0s - loss: 0.3964 - accuracy: 0.83 - 1s 145us/step - loss: 0.3955 - accuracy: 0.8376\n",
      "Epoch 29/100\n",
      "8000/8000 [==============================] - 1s 159us/step - loss: 0.3948 - accuracy: 0.8388\n",
      "Epoch 30/100\n",
      "8000/8000 [==============================] - 1s 181us/step - loss: 0.3947 - accuracy: 0.8380\n",
      "Epoch 31/100\n",
      "8000/8000 [==============================] - 1s 136us/step - loss: 0.3943 - accuracy: 0.8384\n",
      "Epoch 32/100\n",
      "8000/8000 [==============================] - 1s 135us/step - loss: 0.3943 - accuracy: 0.8390\n",
      "Epoch 33/100\n",
      "8000/8000 [==============================] - 1s 135us/step - loss: 0.3940 - accuracy: 0.8381\n",
      "Epoch 34/100\n",
      "8000/8000 [==============================] - 1s 151us/step - loss: 0.3941 - accuracy: 0.8389\n",
      "Epoch 35/100\n",
      "8000/8000 [==============================] - 1s 162us/step - loss: 0.3935 - accuracy: 0.8396\n",
      "Epoch 36/100\n",
      "8000/8000 [==============================] - 1s 163us/step - loss: 0.3937 - accuracy: 0.8396\n",
      "Epoch 37/100\n",
      "8000/8000 [==============================] - 2s 196us/step - loss: 0.3934 - accuracy: 0.8403\n",
      "Epoch 38/100\n",
      "8000/8000 [==============================] - 2s 210us/step - loss: 0.3930 - accuracy: 0.8410\n",
      "Epoch 39/100\n",
      "8000/8000 [==============================] - 1s 182us/step - loss: 0.3928 - accuracy: 0.8394\n",
      "Epoch 40/100\n",
      "8000/8000 [==============================] - 1s 156us/step - loss: 0.3931 - accuracy: 0.8395\n",
      "Epoch 41/100\n",
      "8000/8000 [==============================] - 1s 173us/step - loss: 0.3922 - accuracy: 0.8394\n",
      "Epoch 42/100\n",
      "8000/8000 [==============================] - 1s 157us/step - loss: 0.3927 - accuracy: 0.8403\n",
      "Epoch 43/100\n",
      "8000/8000 [==============================] - 2s 231us/step - loss: 0.3927 - accuracy: 0.8400\n",
      "Epoch 44/100\n",
      "8000/8000 [==============================] - 1s 181us/step - loss: 0.3924 - accuracy: 0.8401\n",
      "Epoch 45/100\n",
      "8000/8000 [==============================] - 1s 177us/step - loss: 0.3922 - accuracy: 0.8406\n",
      "Epoch 46/100\n",
      "8000/8000 [==============================] - 2s 206us/step - loss: 0.3922 - accuracy: 0.8407\n",
      "Epoch 47/100\n",
      "8000/8000 [==============================] - 1s 179us/step - loss: 0.3921 - accuracy: 0.8416\n",
      "Epoch 48/100\n",
      "8000/8000 [==============================] - 2s 201us/step - loss: 0.3915 - accuracy: 0.8401\n",
      "Epoch 49/100\n",
      "8000/8000 [==============================] - 1s 179us/step - loss: 0.3916 - accuracy: 0.8406\n",
      "Epoch 50/100\n",
      "8000/8000 [==============================] - 2s 196us/step - loss: 0.3917 - accuracy: 0.8409\n",
      "Epoch 51/100\n",
      "8000/8000 [==============================] - 1s 167us/step - loss: 0.3910 - accuracy: 0.8405\n",
      "Epoch 52/100\n",
      "8000/8000 [==============================] - 1s 159us/step - loss: 0.3909 - accuracy: 0.8415\n",
      "Epoch 53/100\n",
      "8000/8000 [==============================] - 1s 172us/step - loss: 0.3911 - accuracy: 0.8407\n",
      "Epoch 54/100\n",
      "8000/8000 [==============================] - 2s 209us/step - loss: 0.3913 - accuracy: 0.8411\n",
      "Epoch 55/100\n",
      "8000/8000 [==============================] - 1s 164us/step - loss: 0.3911 - accuracy: 0.8413\n",
      "Epoch 56/100\n",
      "8000/8000 [==============================] - 1s 147us/step - loss: 0.3909 - accuracy: 0.8406\n",
      "Epoch 57/100\n",
      "8000/8000 [==============================] - 1s 146us/step - loss: 0.3907 - accuracy: 0.8400\n",
      "Epoch 58/100\n",
      "8000/8000 [==============================] - 1s 157us/step - loss: 0.3905 - accuracy: 0.8419\n",
      "Epoch 59/100\n",
      "8000/8000 [==============================] - 2s 205us/step - loss: 0.3905 - accuracy: 0.8419\n",
      "Epoch 60/100\n",
      "8000/8000 [==============================] - 1s 151us/step - loss: 0.3903 - accuracy: 0.8411\n",
      "Epoch 61/100\n",
      "8000/8000 [==============================] - 1s 180us/step - loss: 0.3904 - accuracy: 0.8409\n",
      "Epoch 62/100\n",
      "8000/8000 [==============================] - 1s 183us/step - loss: 0.3900 - accuracy: 0.8426\n",
      "Epoch 63/100\n",
      "8000/8000 [==============================] - 2s 262us/step - loss: 0.3897 - accuracy: 0.8425\n",
      "Epoch 64/100\n",
      "8000/8000 [==============================] - 1s 186us/step - loss: 0.3898 - accuracy: 0.8428\n",
      "Epoch 65/100\n",
      "8000/8000 [==============================] - 2s 195us/step - loss: 0.3899 - accuracy: 0.8409\n",
      "Epoch 66/100\n",
      "8000/8000 [==============================] - 2s 245us/step - loss: 0.3895 - accuracy: 0.8411\n",
      "Epoch 67/100\n",
      "8000/8000 [==============================] - 1s 177us/step - loss: 0.3895 - accuracy: 0.8415\n",
      "Epoch 68/100\n",
      "8000/8000 [==============================] - 1s 172us/step - loss: 0.3891 - accuracy: 0.8424\n",
      "Epoch 69/100\n",
      "8000/8000 [==============================] - 1s 170us/step - loss: 0.3890 - accuracy: 0.8425\n",
      "Epoch 70/100\n",
      "8000/8000 [==============================] - 2s 259us/step - loss: 0.3892 - accuracy: 0.8420\n",
      "Epoch 71/100\n",
      "8000/8000 [==============================] - 2s 200us/step - loss: 0.3886 - accuracy: 0.8429\n",
      "Epoch 72/100\n",
      "8000/8000 [==============================] - 1s 187us/step - loss: 0.3889 - accuracy: 0.8419\n",
      "Epoch 73/100\n",
      "8000/8000 [==============================] - 1s 177us/step - loss: 0.3881 - accuracy: 0.8432\n",
      "Epoch 74/100\n",
      "8000/8000 [==============================] - 2s 273us/step - loss: 0.3881 - accuracy: 0.8425\n",
      "Epoch 75/100\n",
      "8000/8000 [==============================] - 2s 188us/step - loss: 0.3879 - accuracy: 0.8435\n",
      "Epoch 76/100\n",
      "8000/8000 [==============================] - 1s 180us/step - loss: 0.3876 - accuracy: 0.8425\n",
      "Epoch 77/100\n",
      "8000/8000 [==============================] - 2s 218us/step - loss: 0.3877 - accuracy: 0.8435\n"
     ]
    },
    {
     "name": "stdout",
     "output_type": "stream",
     "text": [
      "Epoch 78/100\n",
      "8000/8000 [==============================] - 1s 186us/step - loss: 0.3875 - accuracy: 0.8424\n",
      "Epoch 79/100\n",
      "8000/8000 [==============================] - 1s 155us/step - loss: 0.3873 - accuracy: 0.8441\n",
      "Epoch 80/100\n",
      "8000/8000 [==============================] - 1s 165us/step - loss: 0.3872 - accuracy: 0.8445\n",
      "Epoch 81/100\n",
      "8000/8000 [==============================] - 1s 137us/step - loss: 0.3870 - accuracy: 0.8439\n",
      "Epoch 82/100\n",
      "8000/8000 [==============================] - 2s 221us/step - loss: 0.3871 - accuracy: 0.8428\n",
      "Epoch 83/100\n",
      "8000/8000 [==============================] - 1s 146us/step - loss: 0.3868 - accuracy: 0.8438\n",
      "Epoch 84/100\n",
      "8000/8000 [==============================] - 1s 147us/step - loss: 0.3867 - accuracy: 0.8432\n",
      "Epoch 85/100\n",
      "8000/8000 [==============================] - 1s 150us/step - loss: 0.3866 - accuracy: 0.8443\n",
      "Epoch 86/100\n",
      "8000/8000 [==============================] - 2s 221us/step - loss: 0.3867 - accuracy: 0.8435\n",
      "Epoch 87/100\n",
      "8000/8000 [==============================] - 1s 147us/step - loss: 0.3860 - accuracy: 0.8425\n",
      "Epoch 88/100\n",
      "8000/8000 [==============================] - 1s 187us/step - loss: 0.3862 - accuracy: 0.8439\n",
      "Epoch 89/100\n",
      "8000/8000 [==============================] - 1s 167us/step - loss: 0.3859 - accuracy: 0.8434\n",
      "Epoch 90/100\n",
      "8000/8000 [==============================] - 2s 217us/step - loss: 0.3858 - accuracy: 0.8422\n",
      "Epoch 91/100\n",
      "8000/8000 [==============================] - 1s 163us/step - loss: 0.3856 - accuracy: 0.8429\n",
      "Epoch 92/100\n",
      "8000/8000 [==============================] - 2s 212us/step - loss: 0.3855 - accuracy: 0.8420\n",
      "Epoch 93/100\n",
      "8000/8000 [==============================] - 1s 158us/step - loss: 0.3855 - accuracy: 0.8424\n",
      "Epoch 94/100\n",
      "8000/8000 [==============================] - 2s 218us/step - loss: 0.3853 - accuracy: 0.8432\n",
      "Epoch 95/100\n",
      "8000/8000 [==============================] - 1s 163us/step - loss: 0.3851 - accuracy: 0.8421\n",
      "Epoch 96/100\n",
      "8000/8000 [==============================] - 1s 160us/step - loss: 0.3849 - accuracy: 0.8430\n",
      "Epoch 97/100\n",
      "8000/8000 [==============================] - 2s 190us/step - loss: 0.3847 - accuracy: 0.8435\n",
      "Epoch 98/100\n",
      "8000/8000 [==============================] - 2s 229us/step - loss: 0.3844 - accuracy: 0.8430\n",
      "Epoch 99/100\n",
      "8000/8000 [==============================] - 1s 149us/step - loss: 0.3849 - accuracy: 0.8440\n",
      "Epoch 100/100\n",
      "8000/8000 [==============================] - 1s 149us/step - loss: 0.3846 - accuracy: 0.8447\n"
     ]
    },
    {
     "data": {
      "text/plain": [
       "<keras.callbacks.callbacks.History at 0x23dec05f208>"
      ]
     },
     "execution_count": 30,
     "metadata": {},
     "output_type": "execute_result"
    }
   ],
   "source": [
    "# Fitting the ANN to the Training set\n",
    "Classifier.fit(X_train, y_train, batch_size = 10, nb_epoch = 100)"
   ]
  },
  {
   "cell_type": "markdown",
   "metadata": {},
   "source": [
    "# Part 3 - Making the predictions and evaluating the model"
   ]
  },
  {
   "cell_type": "code",
   "execution_count": 34,
   "metadata": {},
   "outputs": [],
   "source": [
    "# Predicting the Test set results\n",
    "y_pred = Classifier.predict(X_test)\n",
    "y_pred = (y_pred > 0.5)"
   ]
  },
  {
   "cell_type": "code",
   "execution_count": 35,
   "metadata": {},
   "outputs": [],
   "source": [
    "# Making the Confusion Matrix\n",
    "from sklearn.metrics import confusion_matrix,accuracy_score\n",
    "cm = confusion_matrix(y_test, y_pred)\n",
    "accuracy=accuracy_score(y_test,y_pred)"
   ]
  },
  {
   "cell_type": "code",
   "execution_count": 40,
   "metadata": {},
   "outputs": [
    {
     "name": "stdout",
     "output_type": "stream",
     "text": [
      "[[1523   72]\n",
      " [ 242  163]]\n"
     ]
    }
   ],
   "source": [
    "print(cm)"
   ]
  },
  {
   "cell_type": "code",
   "execution_count": 39,
   "metadata": {},
   "outputs": [
    {
     "name": "stdout",
     "output_type": "stream",
     "text": [
      "0.843\n"
     ]
    }
   ],
   "source": [
    "print(accuracy)"
   ]
  }
 ],
 "metadata": {
  "kernelspec": {
   "display_name": "Python 3",
   "language": "python",
   "name": "python3"
  },
  "language_info": {
   "codemirror_mode": {
    "name": "ipython",
    "version": 3
   },
   "file_extension": ".py",
   "mimetype": "text/x-python",
   "name": "python",
   "nbconvert_exporter": "python",
   "pygments_lexer": "ipython3",
   "version": "3.7.6"
  }
 },
 "nbformat": 4,
 "nbformat_minor": 4
}
